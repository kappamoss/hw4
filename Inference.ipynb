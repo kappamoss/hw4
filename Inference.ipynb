{
  "nbformat": 4,
  "nbformat_minor": 0,
  "metadata": {
    "colab": {
      "name": "Inference.ipynb",
      "provenance": [],
      "background_execution": "on",
      "collapsed_sections": []
    },
    "kernelspec": {
      "name": "python3",
      "display_name": "Python 3"
    },
    "language_info": {
      "name": "python"
    },
    "accelerator": "GPU"
  },
  "cells": [
    {
      "cell_type": "code",
      "metadata": {
        "id": "_hteyN2COWmz",
        "colab": {
          "base_uri": "https://localhost:8080/"
        },
        "outputId": "e1a8e7f5-157b-4f3f-fb62-ab6b1522bef7"
      },
      "source": [
        "!git clone https://github.com/kappamoss/hw4.git\n",
        "%cd hw4"
      ],
      "execution_count": 1,
      "outputs": [
        {
          "output_type": "stream",
          "name": "stdout",
          "text": [
            "Cloning into 'hw4'...\n",
            "remote: Enumerating objects: 16, done.\u001b[K\n",
            "remote: Counting objects: 100% (16/16), done.\u001b[K\n",
            "remote: Compressing objects: 100% (14/14), done.\u001b[K\n",
            "remote: Total 16 (delta 3), reused 0 (delta 0), pack-reused 0\u001b[K\n",
            "Unpacking objects: 100% (16/16), done.\n",
            "/content/hw4\n"
          ]
        }
      ]
    },
    {
      "cell_type": "code",
      "metadata": {
        "id": "4jL5aZH-2Jtu",
        "colab": {
          "base_uri": "https://localhost:8080/"
        },
        "outputId": "5d19c28c-e451-4b53-adfc-2f7f0963fb27"
      },
      "source": [
        "#download the dataset\n",
        "!gdown --id '1n796E-LuV1lxqtXJvYgGQIKCWLpN5deH' --output dataset.zip\n",
        "!apt-get install unzip\n",
        "!unzip -q 'dataset.zip'\n",
        "\n",
        "#download my model\n",
        "!gdown --id '1jrtD7riJdEFEz0mBuHB5aNnFGOLhArOZ' --output model.zip\n",
        "!apt-get install unzip\n",
        "!unzip -q 'model.zip' "
      ],
      "execution_count": 2,
      "outputs": [
        {
          "output_type": "stream",
          "name": "stdout",
          "text": [
            "Downloading...\n",
            "From: https://drive.google.com/uc?id=1n796E-LuV1lxqtXJvYgGQIKCWLpN5deH\n",
            "To: /content/hw4/dataset.zip\n",
            "100% 70.6M/70.6M [00:00<00:00, 106MB/s] \n",
            "Reading package lists... Done\n",
            "Building dependency tree       \n",
            "Reading state information... Done\n",
            "unzip is already the newest version (6.0-21ubuntu1.1).\n",
            "0 upgraded, 0 newly installed, 0 to remove and 37 not upgraded.\n",
            "Downloading...\n",
            "From: https://drive.google.com/uc?id=1jrtD7riJdEFEz0mBuHB5aNnFGOLhArOZ\n",
            "To: /content/hw4/model.zip\n",
            "100% 35.2M/35.2M [00:00<00:00, 158MB/s]\n",
            "Reading package lists... Done\n",
            "Building dependency tree       \n",
            "Reading state information... Done\n",
            "unzip is already the newest version (6.0-21ubuntu1.1).\n",
            "0 upgraded, 0 newly installed, 0 to remove and 37 not upgraded.\n"
          ]
        }
      ]
    },
    {
      "cell_type": "code",
      "source": [
        "import os\n",
        "import cv2\n",
        "import json\n",
        "import h5py\n",
        "import numpy as np\n",
        "!python eval.py\n",
        "!python test.py"
      ],
      "metadata": {
        "id": "h0eOr9k6d2D4",
        "colab": {
          "base_uri": "https://localhost:8080/"
        },
        "outputId": "6d92ccd0-735d-4e7c-de82-889f6d6019df"
      },
      "execution_count": 3,
      "outputs": [
        {
          "output_type": "stream",
          "name": "stdout",
          "text": [
            "/usr/local/lib/python3.7/dist-packages/torch/utils/data/dataloader.py:481: UserWarning: This DataLoader will create 4 worker processes in total. Our suggested max number of worker in current system is 2, which is smaller than what this DataLoader is going to create. Please be aware that excessive worker creation might get DataLoader running slow or even freeze, lower the worker number to avoid potential slowness/freeze if necessary.\n",
            "  cpuset_checked))\n",
            "PSNR - 28.163\n",
            "/usr/local/lib/python3.7/dist-packages/torch/utils/data/dataloader.py:481: UserWarning: This DataLoader will create 4 worker processes in total. Our suggested max number of worker in current system is 2, which is smaller than what this DataLoader is going to create. Please be aware that excessive worker creation might get DataLoader running slow or even freeze, lower the worker number to avoid potential slowness/freeze if necessary.\n",
            "  cpuset_checked))\n"
          ]
        }
      ]
    }
  ]
}